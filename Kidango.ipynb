{
 "cells": [
  {
   "cell_type": "code",
   "execution_count": 1,
   "id": "486257cb",
   "metadata": {},
   "outputs": [],
   "source": [
    "import pandas as pd\n",
    "import numpy as np\n",
    "import matplotlib.pyplot as plt\n",
    "import seaborn as sns\n",
    "import math as math\n",
    "from sklearn.linear_model import LogisticRegression\n",
    "from sklearn.metrics import accuracy_score"
   ]
  },
  {
   "cell_type": "code",
   "execution_count": 2,
   "id": "67d6e203",
   "metadata": {},
   "outputs": [
    {
     "data": {
      "text/html": [
       "<div>\n",
       "<style scoped>\n",
       "    .dataframe tbody tr th:only-of-type {\n",
       "        vertical-align: middle;\n",
       "    }\n",
       "\n",
       "    .dataframe tbody tr th {\n",
       "        vertical-align: top;\n",
       "    }\n",
       "\n",
       "    .dataframe thead th {\n",
       "        text-align: right;\n",
       "    }\n",
       "</style>\n",
       "<table border=\"1\" class=\"dataframe\">\n",
       "  <thead>\n",
       "    <tr style=\"text-align: right;\">\n",
       "      <th></th>\n",
       "      <th>School Year</th>\n",
       "      <th>ChildID</th>\n",
       "      <th>AttendanceDate</th>\n",
       "      <th>Attendance</th>\n",
       "      <th>Center</th>\n",
       "      <th>Classroom</th>\n",
       "      <th>Session</th>\n",
       "      <th>Session_detail</th>\n",
       "      <th>ProgramType</th>\n",
       "      <th>AbsenceCodeDesc</th>\n",
       "    </tr>\n",
       "  </thead>\n",
       "  <tbody>\n",
       "    <tr>\n",
       "      <th>0</th>\n",
       "      <td>18-19</td>\n",
       "      <td>57894</td>\n",
       "      <td>10/15/2018</td>\n",
       "      <td>Best Interest</td>\n",
       "      <td>FH</td>\n",
       "      <td>NaN</td>\n",
       "      <td>FD</td>\n",
       "      <td>NaN</td>\n",
       "      <td>FH</td>\n",
       "      <td>Best Interest</td>\n",
       "    </tr>\n",
       "    <tr>\n",
       "      <th>1</th>\n",
       "      <td>18-19</td>\n",
       "      <td>61922</td>\n",
       "      <td>11/28/2018</td>\n",
       "      <td>Best Interest</td>\n",
       "      <td>FH</td>\n",
       "      <td>NaN</td>\n",
       "      <td>FD</td>\n",
       "      <td>NaN</td>\n",
       "      <td>FH</td>\n",
       "      <td>Best Interest</td>\n",
       "    </tr>\n",
       "    <tr>\n",
       "      <th>2</th>\n",
       "      <td>18-19</td>\n",
       "      <td>61522</td>\n",
       "      <td>12/7/2018</td>\n",
       "      <td>Best Interest</td>\n",
       "      <td>FH</td>\n",
       "      <td>NaN</td>\n",
       "      <td>FD</td>\n",
       "      <td>NaN</td>\n",
       "      <td>FH</td>\n",
       "      <td>Best Interest</td>\n",
       "    </tr>\n",
       "    <tr>\n",
       "      <th>3</th>\n",
       "      <td>18-19</td>\n",
       "      <td>49392</td>\n",
       "      <td>12/13/2018</td>\n",
       "      <td>Best Interest</td>\n",
       "      <td>FH</td>\n",
       "      <td>NaN</td>\n",
       "      <td>FD</td>\n",
       "      <td>NaN</td>\n",
       "      <td>FH</td>\n",
       "      <td>Best Interest</td>\n",
       "    </tr>\n",
       "    <tr>\n",
       "      <th>4</th>\n",
       "      <td>18-19</td>\n",
       "      <td>52902</td>\n",
       "      <td>12/17/2018</td>\n",
       "      <td>Best Interest</td>\n",
       "      <td>FH</td>\n",
       "      <td>NaN</td>\n",
       "      <td>FD</td>\n",
       "      <td>NaN</td>\n",
       "      <td>FH</td>\n",
       "      <td>Best Interest</td>\n",
       "    </tr>\n",
       "    <tr>\n",
       "      <th>...</th>\n",
       "      <td>...</td>\n",
       "      <td>...</td>\n",
       "      <td>...</td>\n",
       "      <td>...</td>\n",
       "      <td>...</td>\n",
       "      <td>...</td>\n",
       "      <td>...</td>\n",
       "      <td>...</td>\n",
       "      <td>...</td>\n",
       "      <td>...</td>\n",
       "    </tr>\n",
       "    <tr>\n",
       "      <th>676475</th>\n",
       "      <td>18-19</td>\n",
       "      <td>59942</td>\n",
       "      <td>6/27/2019</td>\n",
       "      <td>Unexcused Absence</td>\n",
       "      <td>Cox</td>\n",
       "      <td>149.0</td>\n",
       "      <td>PD</td>\n",
       "      <td>PM</td>\n",
       "      <td>Preschool</td>\n",
       "      <td>Unexcused Absence</td>\n",
       "    </tr>\n",
       "    <tr>\n",
       "      <th>676476</th>\n",
       "      <td>18-19</td>\n",
       "      <td>61001</td>\n",
       "      <td>9/27/2018</td>\n",
       "      <td>Unexcused Absence</td>\n",
       "      <td>Decoto</td>\n",
       "      <td>40.0</td>\n",
       "      <td>PD</td>\n",
       "      <td>PM</td>\n",
       "      <td>Preschool</td>\n",
       "      <td>Unexcused Absence</td>\n",
       "    </tr>\n",
       "    <tr>\n",
       "      <th>676477</th>\n",
       "      <td>18-19</td>\n",
       "      <td>56838</td>\n",
       "      <td>4/8/2019</td>\n",
       "      <td>Unexcused Absence</td>\n",
       "      <td>Grant</td>\n",
       "      <td>109.0</td>\n",
       "      <td>PD</td>\n",
       "      <td>PM</td>\n",
       "      <td>Preschool</td>\n",
       "      <td>Unexcused Absence</td>\n",
       "    </tr>\n",
       "    <tr>\n",
       "      <th>676478</th>\n",
       "      <td>18-19</td>\n",
       "      <td>61984</td>\n",
       "      <td>2/26/2019</td>\n",
       "      <td>Unexcused Absence</td>\n",
       "      <td>Hillview</td>\n",
       "      <td>47.0</td>\n",
       "      <td>PD</td>\n",
       "      <td>PM</td>\n",
       "      <td>Preschool</td>\n",
       "      <td>Unexcused Absence</td>\n",
       "    </tr>\n",
       "    <tr>\n",
       "      <th>676479</th>\n",
       "      <td>18-19</td>\n",
       "      <td>57181</td>\n",
       "      <td>8/10/2018</td>\n",
       "      <td>Unexcused Absence</td>\n",
       "      <td>Hubbard</td>\n",
       "      <td>83.0</td>\n",
       "      <td>PD</td>\n",
       "      <td>PM</td>\n",
       "      <td>Preschool</td>\n",
       "      <td>Unexcused Absence</td>\n",
       "    </tr>\n",
       "  </tbody>\n",
       "</table>\n",
       "<p>676480 rows × 10 columns</p>\n",
       "</div>"
      ],
      "text/plain": [
       "       School Year  ChildID AttendanceDate         Attendance    Center  \\\n",
       "0            18-19    57894     10/15/2018      Best Interest        FH   \n",
       "1            18-19    61922     11/28/2018      Best Interest        FH   \n",
       "2            18-19    61522      12/7/2018      Best Interest        FH   \n",
       "3            18-19    49392     12/13/2018      Best Interest        FH   \n",
       "4            18-19    52902     12/17/2018      Best Interest        FH   \n",
       "...            ...      ...            ...                ...       ...   \n",
       "676475       18-19    59942      6/27/2019  Unexcused Absence       Cox   \n",
       "676476       18-19    61001      9/27/2018  Unexcused Absence    Decoto   \n",
       "676477       18-19    56838       4/8/2019  Unexcused Absence     Grant   \n",
       "676478       18-19    61984      2/26/2019  Unexcused Absence  Hillview   \n",
       "676479       18-19    57181      8/10/2018  Unexcused Absence   Hubbard   \n",
       "\n",
       "        Classroom Session Session_detail ProgramType    AbsenceCodeDesc  \n",
       "0             NaN      FD            NaN          FH      Best Interest  \n",
       "1             NaN      FD            NaN          FH      Best Interest  \n",
       "2             NaN      FD            NaN          FH      Best Interest  \n",
       "3             NaN      FD            NaN          FH      Best Interest  \n",
       "4             NaN      FD            NaN          FH      Best Interest  \n",
       "...           ...     ...            ...         ...                ...  \n",
       "676475      149.0      PD             PM   Preschool  Unexcused Absence  \n",
       "676476       40.0      PD             PM   Preschool  Unexcused Absence  \n",
       "676477      109.0      PD             PM   Preschool  Unexcused Absence  \n",
       "676478       47.0      PD             PM   Preschool  Unexcused Absence  \n",
       "676479       83.0      PD             PM   Preschool  Unexcused Absence  \n",
       "\n",
       "[676480 rows x 10 columns]"
      ]
     },
     "execution_count": 2,
     "metadata": {},
     "output_type": "execute_result"
    }
   ],
   "source": [
    "data = pd.read_csv('18-19 attendance master.csv')\n",
    "data"
   ]
  },
  {
   "cell_type": "code",
   "execution_count": 3,
   "id": "92852969",
   "metadata": {},
   "outputs": [
    {
     "data": {
      "text/html": [
       "<div>\n",
       "<style scoped>\n",
       "    .dataframe tbody tr th:only-of-type {\n",
       "        vertical-align: middle;\n",
       "    }\n",
       "\n",
       "    .dataframe tbody tr th {\n",
       "        vertical-align: top;\n",
       "    }\n",
       "\n",
       "    .dataframe thead th {\n",
       "        text-align: right;\n",
       "    }\n",
       "</style>\n",
       "<table border=\"1\" class=\"dataframe\">\n",
       "  <thead>\n",
       "    <tr style=\"text-align: right;\">\n",
       "      <th></th>\n",
       "      <th>ChildDateofBirth</th>\n",
       "      <th>ChildEthnicity</th>\n",
       "      <th>ChildFlags</th>\n",
       "      <th>ChildID</th>\n",
       "      <th>ChildLanguage</th>\n",
       "      <th>ChildRace</th>\n",
       "    </tr>\n",
       "  </thead>\n",
       "  <tbody>\n",
       "    <tr>\n",
       "      <th>58248</th>\n",
       "      <td>NaN</td>\n",
       "      <td>NaN</td>\n",
       "      <td>NaN</td>\n",
       "      <td>NaN</td>\n",
       "      <td>NaN</td>\n",
       "      <td>NaN</td>\n",
       "    </tr>\n",
       "  </tbody>\n",
       "</table>\n",
       "</div>"
      ],
      "text/plain": [
       "      ChildDateofBirth ChildEthnicity ChildFlags  ChildID ChildLanguage  \\\n",
       "58248              NaN            NaN        NaN      NaN           NaN   \n",
       "\n",
       "      ChildRace  \n",
       "58248       NaN  "
      ]
     },
     "execution_count": 3,
     "metadata": {},
     "output_type": "execute_result"
    }
   ],
   "source": [
    "demog = pd.read_csv('PvH-demographicsdash_childdata.csv')\n",
    "demog[demog['ChildID'].isna()]\n",
    "\n",
    "# demog['ChildID'].isna()\n",
    "# demog['ChildID'] = demog.ChildID.astype(int)\n",
    "# demog"
   ]
  },
  {
   "cell_type": "code",
   "execution_count": 5,
   "id": "7d11b915",
   "metadata": {},
   "outputs": [
    {
     "data": {
      "text/plain": [
       "Index(['School Year', 'ChildID', 'AttendanceDate', 'Attendance', 'Center',\n",
       "       'Classroom', 'Session', 'Session_detail', 'ProgramType',\n",
       "       'AbsenceCodeDesc'],\n",
       "      dtype='object')"
      ]
     },
     "execution_count": 5,
     "metadata": {},
     "output_type": "execute_result"
    }
   ],
   "source": [
    "data.columns"
   ]
  },
  {
   "cell_type": "code",
   "execution_count": 19,
   "id": "8aecdc7d",
   "metadata": {},
   "outputs": [
    {
     "data": {
      "text/plain": [
       "[]"
      ]
     },
     "execution_count": 19,
     "metadata": {},
     "output_type": "execute_result"
    }
   ],
   "source": [
    "col_unique = []\n",
    "for col in data.columns:\n",
    "    col_unique.append(data[col].unique())\n",
    "    \n",
    "col_unique_count"
   ]
  },
  {
   "cell_type": "code",
   "execution_count": 30,
   "id": "691c511f",
   "metadata": {},
   "outputs": [
    {
     "data": {
      "text/plain": [
       "array(['Not Scheduled', 'Emergency Closure', 'Family Emergency',\n",
       "       'Not Enrolled', 'Inactive:  14 Day Term NOA', 'Contracted Care',\n",
       "       'Court Appointed Visitation',\n",
       "       'BI CPS - Best Interest in excess of 10 for CPS', 'Quarantine'],\n",
       "      dtype=object)"
      ]
     },
     "execution_count": 30,
     "metadata": {},
     "output_type": "execute_result"
    }
   ],
   "source": [
    "data[data['Attendance'] == 'Other']['AbsenceCodeDesc'].unique()"
   ]
  },
  {
   "cell_type": "code",
   "execution_count": 27,
   "id": "fc164735",
   "metadata": {},
   "outputs": [
    {
     "data": {
      "text/plain": [
       "array(['Best Interest', 'In Attendance', 'Sick', 'Other',\n",
       "       'Unexcused Absence'], dtype=object)"
      ]
     },
     "execution_count": 27,
     "metadata": {},
     "output_type": "execute_result"
    }
   ],
   "source": [
    "data['Attendance'].unique()"
   ]
  },
  {
   "cell_type": "code",
   "execution_count": 14,
   "id": "00874726",
   "metadata": {},
   "outputs": [
    {
     "data": {
      "text/plain": [
       "School Year             0\n",
       "ChildID                 0\n",
       "AttendanceDate          0\n",
       "Attendance              0\n",
       "Center                  0\n",
       "Classroom           24476\n",
       "Session                 0\n",
       "Session_detail     308834\n",
       "ProgramType             0\n",
       "AbsenceCodeDesc         0\n",
       "dtype: int64"
      ]
     },
     "execution_count": 14,
     "metadata": {},
     "output_type": "execute_result"
    }
   ],
   "source": [
    "data.isnull().sum()"
   ]
  },
  {
   "cell_type": "code",
   "execution_count": 24,
   "id": "08846be7",
   "metadata": {},
   "outputs": [
    {
     "data": {
      "text/plain": [
       "In Attendance        554015\n",
       "Sick                  79336\n",
       "Best Interest         22262\n",
       "Other                 14835\n",
       "Unexcused Absence      6032\n",
       "Name: Attendance, dtype: int64"
      ]
     },
     "execution_count": 24,
     "metadata": {},
     "output_type": "execute_result"
    }
   ],
   "source": [
    "data['Attendance'].value_counts()"
   ]
  },
  {
   "cell_type": "code",
   "execution_count": null,
   "id": "971d7b2a",
   "metadata": {},
   "outputs": [],
   "source": [
    "student_attendance = "
   ]
  }
 ],
 "metadata": {
  "kernelspec": {
   "display_name": "Python 3 (ipykernel)",
   "language": "python",
   "name": "python3"
  },
  "language_info": {
   "codemirror_mode": {
    "name": "ipython",
    "version": 3
   },
   "file_extension": ".py",
   "mimetype": "text/x-python",
   "name": "python",
   "nbconvert_exporter": "python",
   "pygments_lexer": "ipython3",
   "version": "3.9.12"
  }
 },
 "nbformat": 4,
 "nbformat_minor": 5
}
